{
 "cells": [
  {
   "cell_type": "code",
   "execution_count": 1,
   "metadata": {
    "colab": {
     "base_uri": "https://localhost:8080/"
    },
    "executionInfo": {
     "elapsed": 18813,
     "status": "ok",
     "timestamp": 1624652225059,
     "user": {
      "displayName": "Thi Xiu LE",
      "photoUrl": "",
      "userId": "01707569398558225146"
     },
     "user_tz": -120
    },
    "id": "5Wpqiht4XOSt",
    "outputId": "c8e680a0-1cda-4ccd-c82a-831a44c4e4f0"
   },
   "outputs": [
    {
     "name": "stdout",
     "output_type": "stream",
     "text": [
      "Mounted at /content/drive\n"
     ]
    }
   ],
   "source": [
    "from google.colab import drive\n",
    "drive.mount('/content/drive')"
   ]
  },
  {
   "cell_type": "code",
   "execution_count": 2,
   "metadata": {
    "colab": {
     "base_uri": "https://localhost:8080/"
    },
    "executionInfo": {
     "elapsed": 748,
     "status": "ok",
     "timestamp": 1624652225792,
     "user": {
      "displayName": "Thi Xiu LE",
      "photoUrl": "",
      "userId": "01707569398558225146"
     },
     "user_tz": -120
    },
    "id": "uHkBEcZZXUzQ",
    "outputId": "6548a5de-ed3f-46d4-91ac-ce25773d39b6"
   },
   "outputs": [
    {
     "name": "stdout",
     "output_type": "stream",
     "text": [
      "/content/drive/MyDrive/Machine_Learning/Crack_Detection/Yolo_v4\n",
      "\u001b[0m\u001b[01;34mbackup\u001b[0m/                           chart.png  Data.ipynb\n",
      "bad.list                          \u001b[01;34mdarknet\u001b[0m/   predictions.jpg\n",
      "chart_custom-yolov4-detector.png  \u001b[01;34mdata\u001b[0m/      Yolov4_custom_data.ipynb\n"
     ]
    }
   ],
   "source": [
    "import os\n",
    "os.chdir('/content/drive/MyDrive/Machine_Learning/Crack_Detection/Yolo_v4') #/\n",
    "!pwd\n",
    "%ls"
   ]
  },
  {
   "cell_type": "code",
   "execution_count": 3,
   "metadata": {
    "executionInfo": {
     "elapsed": 2447,
     "status": "ok",
     "timestamp": 1624652228231,
     "user": {
      "displayName": "Thi Xiu LE",
      "photoUrl": "",
      "userId": "01707569398558225146"
     },
     "user_tz": -120
    },
    "id": "-uTVWK76XW5G"
   },
   "outputs": [],
   "source": [
    "# Importing needed library\n",
    "import os\n",
    "\n",
    "full_path_to_images = 'data/train'\n",
    "\n",
    "# Changing the current directory to one with images\n",
    "os.chdir(full_path_to_images)\n",
    "\n",
    "# Defining list to write paths in\n",
    "p = []\n",
    "\n",
    "# Using os.walk for going through all directories\n",
    "# and files in them from the current directory\n",
    "# Fullstop in os.walk('.') means the current directory\n",
    "for current_dir, dirs, files in os.walk('.'):\n",
    "    # Going through all files\n",
    "    for f in files:\n",
    "        # Checking if filename ends with '.jpeg'\n",
    "        if f.endswith('.jpg'):\n",
    "            # Preparing path to save into train.txt file\n",
    "            # Pay attention!\n",
    "            # If you're using Windows, it might need to change\n",
    "            # this: + '/' +\n",
    "            # to this: + '\\' +\n",
    "            # or to this: + '\\\\' +\n",
    "            path_to_save_into_txt_files = full_path_to_images + '/' + f\n",
    "\n",
    "            # Appending the line into the list\n",
    "            # We use here '\\n' to move to the next line\n",
    "            # when writing lines into txt files\n",
    "            p.append(path_to_save_into_txt_files + '\\n')\n",
    "\n",
    "# Slicing first 15% of elements from the list\n",
    "# to write into the test.txt file\n",
    "p_test = p[:int(len(p) * 0.15)]\n",
    "\n",
    "# Deleting from initial list first 15% of elements\n",
    "p = p[int(len(p) * 0.15):]\n",
    "\n",
    "# Creating file train.txt and writing 85% of lines in it\n",
    "with open('train.txt', 'w') as train_txt:\n",
    "    # Going through all elements of the list\n",
    "    for e in p:\n",
    "        # Writing current path at the end of the file\n",
    "        train_txt.write(e)\n",
    "\n",
    "# Creating file test.txt and writing 15% of lines in it\n",
    "with open('test.txt', 'w') as test_txt:\n",
    "    # Going through all elements of the list\n",
    "    for e in p_test:\n",
    "        # Writing current path at the end of the file\n",
    "        test_txt.write(e)"
   ]
  },
  {
   "cell_type": "code",
   "execution_count": 3,
   "metadata": {
    "executionInfo": {
     "elapsed": 18,
     "status": "ok",
     "timestamp": 1624652228234,
     "user": {
      "displayName": "Thi Xiu LE",
      "photoUrl": "",
      "userId": "01707569398558225146"
     },
     "user_tz": -120
    },
    "id": "BXShWe7BXwKQ"
   },
   "outputs": [],
   "source": []
  }
 ],
 "metadata": {
  "colab": {
   "authorship_tag": "ABX9TyOnOfTuuFIYlNYaoAlgQRnu",
   "collapsed_sections": [],
   "name": "Data.ipynb",
   "provenance": []
  },
  "kernelspec": {
   "display_name": "Python 3",
   "language": "python",
   "name": "python3"
  },
  "language_info": {
   "codemirror_mode": {
    "name": "ipython",
    "version": 3
   },
   "file_extension": ".py",
   "mimetype": "text/x-python",
   "name": "python",
   "nbconvert_exporter": "python",
   "pygments_lexer": "ipython3",
   "version": "3.7.4"
  }
 },
 "nbformat": 4,
 "nbformat_minor": 4
}
